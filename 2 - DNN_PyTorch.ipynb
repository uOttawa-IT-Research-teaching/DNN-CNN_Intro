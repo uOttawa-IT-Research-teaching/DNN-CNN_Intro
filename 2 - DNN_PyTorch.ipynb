{
 "cells": [
  {
   "cell_type": "markdown",
   "metadata": {},
   "source": [
    "# Deep Neural Network with PyTorch\n",
    "**Notebook 2 of 3**\n",
    "\n",
    "In our previous tutorial, we explored the fundamentals of deep neural networks (DNN) by implementing them from scratch using NumPy.  We delved into the mathematical foundations, learned about the backpropagation algorithm,and built a learning DNN model.<br>\n",
    "In this tutorial, we will leverage out knowledge from the previous implementation and transition to using PyTorch for building and training DNNs.  This time, we will use the iris dataset contained in the sklearn library which we have become familiar with in previous tutorials.  Information about it can be found at this link [iris dataset](https://scikit-learn.org/stable/modules/generated/sklearn.datasets.load_iris.html)"
   ]
  },
  {
   "cell_type": "markdown",
   "metadata": {},
   "source": [
    "## Learning Objectives\n",
    "\n",
    "Average time to complete: 20min\n",
    "\n",
    "By the end of this tutorial you should be able to:\n",
    "* Apply the notions we learned in notebook 1.\n",
    "* Implement simple neural networks using a real dataset and PyTorch libraries.\n",
    "* Explore and analyze the neural network to understand how well it performs."
   ]
  },
  {
   "cell_type": "markdown",
   "metadata": {},
   "source": [
    "## What you will need for this tutorial\n",
    "\n",
    "* See the [introduction document](https://uottawa-it-research-teaching.github.io/machinelearning/) for general requirements and how Jupyter notebooks work.\n",
    "* We'll need Pandas for convenient data handling. It's a very powerful Python package that can read CSV and Excel files. It also has very good data manipulation capabilities which come in use for data cleaning.\n",
    "* Pytorch\n",
    "* We will use scikit learn as our machine learning package.\n",
    "* numpy \n",
    "* seaborn \n",
    "* matplotlib\n",
    "* requests\n",
    "* ipywidgets\n",
    "* The data files that should have come with this notebook."
   ]
  },
  {
   "cell_type": "markdown",
   "metadata": {},
   "source": [
    "## RDM best practices\n",
    "\n",
    "Good data handling for machine learning begins with good Research Data Managment (RDM). The quality of your source data will impact the outcome of your results, just like the reproducibility of your results will depend on the quality of your data sources, in addition to how you organize the data so that other people (and machines!) can understand and reuse it. \n",
    "\n",
    "We also need to respect a few research data management best practices along the way, these best practices are recommended by the [Digital Research Alliance of Canada](https://zenodo.org/records/4000989).\n",
    "\n",
    "SAVE YOUR RAW DATA IN ORIGINAL FORMAT\n",
    "* Don't overwrite your original data with a cleaned version.\n",
    "* Protect your original data by locking them or making them read-only.\n",
    "* Refer to this original data if things go wrong (as they often do).\n",
    "\n",
    "BACKUP YOUR DATA\n",
    "* Use the 3-2-1 rule: Save three copies of your data, on two different storage mediums, and one copy off site. The off site storage can be OneDrive or Google drive or whatever your institution provides.\n",
    "* We are using Open Data, so it does not contain any personally identifiable data or data that needs to be restricted or protected in any way. However, if your data contains confidential information, it is important to take steps to restrict access and encrypt your data.\n",
    "\n",
    "There are a few more RDM best practices that will help you in your project management, and we will highlight them at the beginning of each tutorial. "
   ]
  },
  {
   "cell_type": "markdown",
   "metadata": {},
   "source": [
    "### Building a simple neural network"
   ]
  },
  {
   "cell_type": "markdown",
   "metadata": {},
   "source": [
    "We start by loading our libraries and the iris dataset from sklearn."
   ]
  },
  {
   "cell_type": "code",
   "execution_count": 1,
   "metadata": {},
   "outputs": [],
   "source": [
    "import torch\n",
    "import torch.nn as nn\n",
    "import pandas as pd\n",
    "import matplotlib.pyplot as plt\n",
    "from torch.autograd import Variable\n",
    "\n",
    "from torch.autograd import Variable\n",
    "from sklearn.datasets import load_iris\n",
    "\n",
    "# Custom DataSet\n",
    "from data import iris"
   ]
  },
  {
   "cell_type": "markdown",
   "metadata": {},
   "source": [
    "### The Dataset\n",
    "\n",
    "![iris](data/iris.jpg)\n",
    "\n",
    "The **Iris** flower, image source: [Wikipedia](https://en.wikipedia.org/wiki/Iris_(plant))\n",
    "\n",
    "\n",
    "| sepal_length_cm | sepal_width_cm | petal_length_cm | petal_width_cm | class           |\n",
    "|-----------------|----------------|-----------------|----------------|-----------------|\n",
    "| 5.1             | 3.5            | 1.4             | 0.2            | Iris-setosa     |\n",
    "| 7.0             | 3.2            | 4.7             | 1.4            | Iris-versicolor |\n",
    "| 6.3             | 3.3            | 6.0             | 2.5            | Iris-virginica  |\n",
    "\n",
    "\n",
    "* Total instances: 150 (we have separated 20% into validation set, rest into training set)\n"
   ]
  },
  {
   "cell_type": "markdown",
   "metadata": {},
   "source": [
    "#### Let's do a head on the raw file to make sure we can read the dataset properly"
   ]
  },
  {
   "cell_type": "code",
   "execution_count": 2,
   "metadata": {},
   "outputs": [
    {
     "data": {
      "text/html": [
       "<div>\n",
       "<style scoped>\n",
       "    .dataframe tbody tr th:only-of-type {\n",
       "        vertical-align: middle;\n",
       "    }\n",
       "\n",
       "    .dataframe tbody tr th {\n",
       "        vertical-align: top;\n",
       "    }\n",
       "\n",
       "    .dataframe thead th {\n",
       "        text-align: right;\n",
       "    }\n",
       "</style>\n",
       "<table border=\"1\" class=\"dataframe\">\n",
       "  <thead>\n",
       "    <tr style=\"text-align: right;\">\n",
       "      <th></th>\n",
       "      <th>sepal_length_cm</th>\n",
       "      <th>sepal_width_cm</th>\n",
       "      <th>petal_length_cm</th>\n",
       "      <th>petal_width_cm</th>\n",
       "      <th>class</th>\n",
       "    </tr>\n",
       "  </thead>\n",
       "  <tbody>\n",
       "    <tr>\n",
       "      <th>0</th>\n",
       "      <td>5.1</td>\n",
       "      <td>3.5</td>\n",
       "      <td>1.4</td>\n",
       "      <td>0.2</td>\n",
       "      <td>Iris-setosa</td>\n",
       "    </tr>\n",
       "    <tr>\n",
       "      <th>1</th>\n",
       "      <td>4.9</td>\n",
       "      <td>3.0</td>\n",
       "      <td>1.4</td>\n",
       "      <td>0.2</td>\n",
       "      <td>Iris-setosa</td>\n",
       "    </tr>\n",
       "    <tr>\n",
       "      <th>2</th>\n",
       "      <td>4.7</td>\n",
       "      <td>3.2</td>\n",
       "      <td>1.3</td>\n",
       "      <td>0.2</td>\n",
       "      <td>Iris-setosa</td>\n",
       "    </tr>\n",
       "    <tr>\n",
       "      <th>3</th>\n",
       "      <td>4.6</td>\n",
       "      <td>3.1</td>\n",
       "      <td>1.5</td>\n",
       "      <td>0.2</td>\n",
       "      <td>Iris-setosa</td>\n",
       "    </tr>\n",
       "    <tr>\n",
       "      <th>4</th>\n",
       "      <td>5.0</td>\n",
       "      <td>3.6</td>\n",
       "      <td>1.4</td>\n",
       "      <td>0.2</td>\n",
       "      <td>Iris-setosa</td>\n",
       "    </tr>\n",
       "  </tbody>\n",
       "</table>\n",
       "</div>"
      ],
      "text/plain": [
       "   sepal_length_cm  sepal_width_cm  petal_length_cm  petal_width_cm  \\\n",
       "0              5.1             3.5              1.4             0.2   \n",
       "1              4.9             3.0              1.4             0.2   \n",
       "2              4.7             3.2              1.3             0.2   \n",
       "3              4.6             3.1              1.5             0.2   \n",
       "4              5.0             3.6              1.4             0.2   \n",
       "\n",
       "         class  \n",
       "0  Iris-setosa  \n",
       "1  Iris-setosa  \n",
       "2  Iris-setosa  \n",
       "3  Iris-setosa  \n",
       "4  Iris-setosa  "
      ]
     },
     "execution_count": 2,
     "metadata": {},
     "output_type": "execute_result"
    }
   ],
   "source": [
    "#!head data/iris.data.txt\n",
    "dataset = pd.read_csv('./data/iris.data.txt')\n",
    "dataset.head(5)"
   ]
  },
  {
   "cell_type": "markdown",
   "metadata": {},
   "source": [
    "### Create the Fully Connected Feed Forward Neural Network"
   ]
  },
  {
   "cell_type": "markdown",
   "metadata": {},
   "source": [
    "**Create the model**"
   ]
  },
  {
   "cell_type": "code",
   "execution_count": 3,
   "metadata": {},
   "outputs": [],
   "source": [
    "#Set up the Neural Network\n",
    "class IrisNet(nn.Module):\n",
    "    \n",
    "    def __init__(self, input_size, hidden1_size, hidden2_size, num_classes):\n",
    "        \n",
    "        super(IrisNet, self).__init__()\n",
    "        self.fc1 = nn.Linear(input_size, hidden1_size)\n",
    "        self.relu1 = nn.ReLU()\n",
    "        self.fc2 = nn.Linear(hidden1_size, hidden2_size)\n",
    "        self.relu2 = nn.ReLU()\n",
    "        self.fc3 = nn.Linear(hidden2_size, num_classes)  \n",
    "    \n",
    "    def forward(self, x):\n",
    "        out = self.fc1(x)\n",
    "        out = self.relu1(out)\n",
    "        out = self.fc2(out)\n",
    "        out = self.relu2(out)\n",
    "        out = self.fc3(out)\n",
    "        return out"
   ]
  },
  {
   "cell_type": "markdown",
   "metadata": {},
   "source": [
    "The model above is created in 2 parts:<br>\n",
    "<b>init<b><br>\n",
    " * It takes 3 arguments: input_size (teh number of input features), hidden_size (the number of neurons in the hidden layer), and num_classes (the number of possible output classes).\n",
    " * Inside, we define the layers of the neural network using PyTorch's nn module\n",
    " * self.fc1 is a fully conected linear layer that takes the input features and maps them to the hidden layer\n",
    " * self.relu is a ReLu activation function, which introduces non-linearily to the network (see notebooks 1)\n",
    " * self.fc2 is another fully connected linear layer that maps the hidden layer to the output classes.\n",
    "    \n",
    "<br><b>forward<b>\n",
    " * The x argument represents the input data\n",
    " * The forward function sapplied the layers defined in the init functions in the correct order\n",
    " * First, it passes the input x through self.fc1 to obtain the output of the first linear layer\n",
    " * Then, it applies the ReLu activation function to the output using self.relu\n",
    " * Finally, it passes the activated output through self.fc2 to obtain the final output predictions."
   ]
  },
  {
   "cell_type": "markdown",
   "metadata": {},
   "source": [
    "**Print the model**"
   ]
  },
  {
   "cell_type": "markdown",
   "metadata": {},
   "source": [
    "This code shows the number of inputs and outputs for each layer"
   ]
  },
  {
   "cell_type": "code",
   "execution_count": 4,
   "metadata": {},
   "outputs": [
    {
     "name": "stdout",
     "output_type": "stream",
     "text": [
      "IrisNet(\n",
      "  (fc1): Linear(in_features=4, out_features=100, bias=True)\n",
      "  (relu1): ReLU()\n",
      "  (fc2): Linear(in_features=100, out_features=50, bias=True)\n",
      "  (relu2): ReLU()\n",
      "  (fc3): Linear(in_features=50, out_features=3, bias=True)\n",
      ")\n"
     ]
    }
   ],
   "source": [
    "# Neural Network model params and NN connections\n",
    "model = IrisNet(4, 100, 50, 3)\n",
    "print(model)"
   ]
  },
  {
   "cell_type": "markdown",
   "metadata": {},
   "source": [
    "### Our Neural Network looks like this\n",
    "![](pynb_pics/pytorch_NN.jpg)"
   ]
  },
  {
   "cell_type": "markdown",
   "metadata": {},
   "source": [
    "### Create the DataLoader"
   ]
  },
  {
   "cell_type": "markdown",
   "metadata": {},
   "source": [
    "We train in batches of 60 samples.  This saves memory and computing resources for large datasets\n",
    "BUT the smaller the batch the less accurate the estimate of the gradient will be !"
   ]
  },
  {
   "cell_type": "code",
   "execution_count": 5,
   "metadata": {},
   "outputs": [],
   "source": [
    "batch_size = 60 \n",
    "iris_data_file = 'data/iris.data.txt'\n"
   ]
  },
  {
   "cell_type": "markdown",
   "metadata": {},
   "source": [
    "To use the model, we have to create our training data and test data variables on an 80/20 split.\n",
    "\n",
    "For the training data (80%), we have<br>\n",
    "    - train_ds which contains the feature X variables: sepal_length, sepal_width, petal_length, petal_width, and target lables Y class\n",
    "    \n",
    "For the test data (20%), we have<br>\n",
    "    - test_ds which contains the feature X variables: sepal_length, sepal_width, petal_length, petal_width, and target lables Y class"
   ]
  },
  {
   "cell_type": "code",
   "execution_count": 6,
   "metadata": {},
   "outputs": [
    {
     "name": "stdout",
     "output_type": "stream",
     "text": [
      "# instances in training set:  120\n",
      "# instances in testing/validation set:  30\n"
     ]
    }
   ],
   "source": [
    "# Get the datasets - default 80/20 split\n",
    "train_ds, test_ds = iris.get_datasets(iris_data_file)\n",
    "\n",
    "# How many instances have we got?\n",
    "print('# instances in training set: ', len(train_ds))\n",
    "print('# instances in testing/validation set: ', len(test_ds))\n",
    "\n",
    "# Create the dataloaders - for training and validation/testing\n",
    "# We will be using the term validation and testing data interchangably\n",
    "train_loader = torch.utils.data.DataLoader(dataset=train_ds, batch_size=batch_size, shuffle=True)\n",
    "test_loader  = torch.utils.data.DataLoader(dataset=test_ds, batch_size=batch_size, shuffle=True)"
   ]
  },
  {
   "cell_type": "code",
   "execution_count": null,
   "metadata": {},
   "outputs": [],
   "source": []
  },
  {
   "cell_type": "markdown",
   "metadata": {},
   "source": [
    "### Set up the network, the loss function and the optimizer"
   ]
  },
  {
   "cell_type": "markdown",
   "metadata": {},
   "source": [
    "Set up to use Pytorch for training the model on our dataset.\n",
    "Note that we can specify the learning rate"
   ]
  },
  {
   "cell_type": "code",
   "execution_count": 7,
   "metadata": {},
   "outputs": [],
   "source": [
    "# Our model\n",
    "net = IrisNet(4, 100, 50, 3)\n",
    "\n",
    "# Out loss function\n",
    "criterion = nn.CrossEntropyLoss()\n",
    "\n",
    "# Our optimizer\n",
    "learning_rate = 0.001\n",
    "optimizer = torch.optim.SGD(net.parameters(), lr=learning_rate, nesterov=True, momentum=0.9, dampening=0)  "
   ]
  },
  {
   "cell_type": "markdown",
   "metadata": {},
   "source": [
    "### Train it!"
   ]
  },
  {
   "cell_type": "markdown",
   "metadata": {},
   "source": [
    "We will go through 60 pass-through iterations of the model"
   ]
  },
  {
   "cell_type": "code",
   "execution_count": 8,
   "metadata": {},
   "outputs": [
    {
     "name": "stdout",
     "output_type": "stream",
     "text": [
      "Epoch 1/60, Iteration 1/2, Loss: 1.1024\n",
      "Epoch 1/60, Iteration 2/2, Loss: 1.1154\n",
      "Epoch 2/60, Iteration 1/2, Loss: 1.1037\n",
      "Epoch 2/60, Iteration 2/2, Loss: 1.0999\n",
      "Epoch 3/60, Iteration 1/2, Loss: 1.1138\n",
      "Epoch 3/60, Iteration 2/2, Loss: 1.0742\n",
      "Epoch 4/60, Iteration 1/2, Loss: 1.0923\n",
      "Epoch 4/60, Iteration 2/2, Loss: 1.0765\n",
      "Epoch 5/60, Iteration 1/2, Loss: 1.0796\n",
      "Epoch 5/60, Iteration 2/2, Loss: 1.0723\n",
      "Epoch 6/60, Iteration 1/2, Loss: 1.0704\n",
      "Epoch 6/60, Iteration 2/2, Loss: 1.0642\n",
      "Epoch 7/60, Iteration 1/2, Loss: 1.0717\n",
      "Epoch 7/60, Iteration 2/2, Loss: 1.0472\n",
      "Epoch 8/60, Iteration 1/2, Loss: 1.0517\n",
      "Epoch 8/60, Iteration 2/2, Loss: 1.0482\n",
      "Epoch 9/60, Iteration 1/2, Loss: 1.0483\n",
      "Epoch 9/60, Iteration 2/2, Loss: 1.0350\n",
      "Epoch 10/60, Iteration 1/2, Loss: 1.0499\n",
      "Epoch 10/60, Iteration 2/2, Loss: 1.0165\n",
      "Epoch 11/60, Iteration 1/2, Loss: 1.0369\n",
      "Epoch 11/60, Iteration 2/2, Loss: 1.0123\n",
      "Epoch 12/60, Iteration 1/2, Loss: 1.0151\n",
      "Epoch 12/60, Iteration 2/2, Loss: 1.0178\n",
      "Epoch 13/60, Iteration 1/2, Loss: 1.0127\n",
      "Epoch 13/60, Iteration 2/2, Loss: 1.0038\n",
      "Epoch 14/60, Iteration 1/2, Loss: 0.9894\n",
      "Epoch 14/60, Iteration 2/2, Loss: 1.0106\n",
      "Epoch 15/60, Iteration 1/2, Loss: 1.0013\n",
      "Epoch 15/60, Iteration 2/2, Loss: 0.9816\n",
      "Epoch 16/60, Iteration 1/2, Loss: 0.9807\n",
      "Epoch 16/60, Iteration 2/2, Loss: 0.9842\n",
      "Epoch 17/60, Iteration 1/2, Loss: 0.9781\n",
      "Epoch 17/60, Iteration 2/2, Loss: 0.9691\n",
      "Epoch 18/60, Iteration 1/2, Loss: 0.9696\n",
      "Epoch 18/60, Iteration 2/2, Loss: 0.9597\n",
      "Epoch 19/60, Iteration 1/2, Loss: 0.9472\n",
      "Epoch 19/60, Iteration 2/2, Loss: 0.9641\n",
      "Epoch 20/60, Iteration 1/2, Loss: 0.9449\n",
      "Epoch 20/60, Iteration 2/2, Loss: 0.9475\n",
      "Epoch 21/60, Iteration 1/2, Loss: 0.9514\n",
      "Epoch 21/60, Iteration 2/2, Loss: 0.9229\n",
      "Epoch 22/60, Iteration 1/2, Loss: 0.9282\n",
      "Epoch 22/60, Iteration 2/2, Loss: 0.9265\n",
      "Epoch 23/60, Iteration 1/2, Loss: 0.9282\n",
      "Epoch 23/60, Iteration 2/2, Loss: 0.9078\n",
      "Epoch 24/60, Iteration 1/2, Loss: 0.9132\n",
      "Epoch 24/60, Iteration 2/2, Loss: 0.9034\n",
      "Epoch 25/60, Iteration 1/2, Loss: 0.8995\n",
      "Epoch 25/60, Iteration 2/2, Loss: 0.8969\n",
      "Epoch 26/60, Iteration 1/2, Loss: 0.8850\n",
      "Epoch 26/60, Iteration 2/2, Loss: 0.8924\n",
      "Epoch 27/60, Iteration 1/2, Loss: 0.8792\n",
      "Epoch 27/60, Iteration 2/2, Loss: 0.8767\n",
      "Epoch 28/60, Iteration 1/2, Loss: 0.8529\n",
      "Epoch 28/60, Iteration 2/2, Loss: 0.8836\n",
      "Epoch 29/60, Iteration 1/2, Loss: 0.8792\n",
      "Epoch 29/60, Iteration 2/2, Loss: 0.8360\n",
      "Epoch 30/60, Iteration 1/2, Loss: 0.8320\n",
      "Epoch 30/60, Iteration 2/2, Loss: 0.8631\n",
      "Epoch 31/60, Iteration 1/2, Loss: 0.8356\n",
      "Epoch 31/60, Iteration 2/2, Loss: 0.8374\n",
      "Epoch 32/60, Iteration 1/2, Loss: 0.8141\n",
      "Epoch 32/60, Iteration 2/2, Loss: 0.8383\n",
      "Epoch 33/60, Iteration 1/2, Loss: 0.7958\n",
      "Epoch 33/60, Iteration 2/2, Loss: 0.8352\n",
      "Epoch 34/60, Iteration 1/2, Loss: 0.7908\n",
      "Epoch 34/60, Iteration 2/2, Loss: 0.8189\n",
      "Epoch 35/60, Iteration 1/2, Loss: 0.7814\n",
      "Epoch 35/60, Iteration 2/2, Loss: 0.8066\n",
      "Epoch 36/60, Iteration 1/2, Loss: 0.7663\n",
      "Epoch 36/60, Iteration 2/2, Loss: 0.8002\n",
      "Epoch 37/60, Iteration 1/2, Loss: 0.7604\n",
      "Epoch 37/60, Iteration 2/2, Loss: 0.7855\n",
      "Epoch 38/60, Iteration 1/2, Loss: 0.7799\n",
      "Epoch 38/60, Iteration 2/2, Loss: 0.7449\n",
      "Epoch 39/60, Iteration 1/2, Loss: 0.7468\n",
      "Epoch 39/60, Iteration 2/2, Loss: 0.7574\n",
      "Epoch 40/60, Iteration 1/2, Loss: 0.7358\n",
      "Epoch 40/60, Iteration 2/2, Loss: 0.7482\n",
      "Epoch 41/60, Iteration 1/2, Loss: 0.7079\n",
      "Epoch 41/60, Iteration 2/2, Loss: 0.7568\n",
      "Epoch 42/60, Iteration 1/2, Loss: 0.7028\n",
      "Epoch 42/60, Iteration 2/2, Loss: 0.7418\n",
      "Epoch 43/60, Iteration 1/2, Loss: 0.6866\n",
      "Epoch 43/60, Iteration 2/2, Loss: 0.7383\n",
      "Epoch 44/60, Iteration 1/2, Loss: 0.6911\n",
      "Epoch 44/60, Iteration 2/2, Loss: 0.7140\n",
      "Epoch 45/60, Iteration 1/2, Loss: 0.6906\n",
      "Epoch 45/60, Iteration 2/2, Loss: 0.6950\n",
      "Epoch 46/60, Iteration 1/2, Loss: 0.6955\n",
      "Epoch 46/60, Iteration 2/2, Loss: 0.6713\n",
      "Epoch 47/60, Iteration 1/2, Loss: 0.6956\n",
      "Epoch 47/60, Iteration 2/2, Loss: 0.6528\n",
      "Epoch 48/60, Iteration 1/2, Loss: 0.6475\n",
      "Epoch 48/60, Iteration 2/2, Loss: 0.6832\n",
      "Epoch 49/60, Iteration 1/2, Loss: 0.6460\n",
      "Epoch 49/60, Iteration 2/2, Loss: 0.6668\n",
      "Epoch 50/60, Iteration 1/2, Loss: 0.6574\n",
      "Epoch 50/60, Iteration 2/2, Loss: 0.6376\n",
      "Epoch 51/60, Iteration 1/2, Loss: 0.6490\n",
      "Epoch 51/60, Iteration 2/2, Loss: 0.6292\n",
      "Epoch 52/60, Iteration 1/2, Loss: 0.6349\n",
      "Epoch 52/60, Iteration 2/2, Loss: 0.6272\n",
      "Epoch 53/60, Iteration 1/2, Loss: 0.6109\n",
      "Epoch 53/60, Iteration 2/2, Loss: 0.6351\n",
      "Epoch 54/60, Iteration 1/2, Loss: 0.6610\n",
      "Epoch 54/60, Iteration 2/2, Loss: 0.5690\n",
      "Epoch 55/60, Iteration 1/2, Loss: 0.6043\n",
      "Epoch 55/60, Iteration 2/2, Loss: 0.6106\n",
      "Epoch 56/60, Iteration 1/2, Loss: 0.6270\n",
      "Epoch 56/60, Iteration 2/2, Loss: 0.5731\n",
      "Epoch 57/60, Iteration 1/2, Loss: 0.5962\n",
      "Epoch 57/60, Iteration 2/2, Loss: 0.5898\n",
      "Epoch 58/60, Iteration 1/2, Loss: 0.5736\n",
      "Epoch 58/60, Iteration 2/2, Loss: 0.5982\n",
      "Epoch 59/60, Iteration 1/2, Loss: 0.5669\n",
      "Epoch 59/60, Iteration 2/2, Loss: 0.5916\n",
      "Epoch 60/60, Iteration 1/2, Loss: 0.5642\n",
      "Epoch 60/60, Iteration 2/2, Loss: 0.5815\n"
     ]
    }
   ],
   "source": [
    "num_epochs = 60 # These are the iterations\n",
    "\n",
    "train_loss = []\n",
    "test_loss = []\n",
    "train_accuracy = []\n",
    "test_accuracy = []\n",
    "\n",
    "for epoch in range(num_epochs):\n",
    "    \n",
    "    train_correct = 0\n",
    "    train_total = 0\n",
    "    \n",
    "    for i, (items, classes) in enumerate(train_loader):\n",
    "        \n",
    "        # Convert torch tensor to Variable\n",
    "        items = Variable(items)\n",
    "        \n",
    "        classes = Variable(classes)\n",
    "        classes = classes.to(torch.long)\n",
    "        # print(classes)\n",
    "        net.train()           # Put the network into training mode\n",
    "        \n",
    "        optimizer.zero_grad() # Clear off the gradients from any past operation\n",
    "        outputs = net(items)  # Do the forward pass\n",
    "        \n",
    "        loss = criterion(outputs, classes) # Calculate the loss\n",
    "        loss.backward()       # Calculate the gradients with help of back propagation\n",
    "        optimizer.step()      # Ask the optimizer to adjust the parameters based on the gradients\n",
    "        \n",
    "        # Record the correct predictions for training data\n",
    "        train_total += classes.size(0)    \n",
    "        _, predicted = torch.max(outputs.data, 1)\n",
    "        train_correct += (predicted == classes.data).sum()\n",
    "\n",
    "        print ('Epoch %d/%d, Iteration %d/%d, Loss: %.4f' \n",
    "#              %(epoch+1, num_epochs, i+1, len(train_ds)//batch_size, loss.data[0]))\n",
    "               %(epoch+1, num_epochs, i+1, len(train_ds)//batch_size, loss.item()))\n",
    "\n",
    "    net.eval()                 # Put the network into evaluation mode\n",
    "    \n",
    "    # Book keeping\n",
    "    # Record the loss\n",
    "#    train_loss.append(loss.data[0])\n",
    "    train_loss.append(loss.item())\n",
    "\n",
    "    # What was our train accuracy?\n",
    "    train_accuracy.append((100 * train_correct / train_total))\n",
    "    \n",
    "    # How did we do on the test set (the unseen set)\n",
    "    # Record the correct predictions for test data\n",
    "    test_items = torch.FloatTensor(test_ds.data.values[:, 0:4])\n",
    "    test_classes = torch.LongTensor(test_ds.data.values[:, 4])\n",
    "\n",
    "    outputs = net(Variable(test_items))\n",
    "   \n",
    "    loss = criterion(outputs, Variable(test_classes))\n",
    "#    test_loss.append(loss.data[0])\n",
    "    test_loss.append(loss.item())\n",
    "    _, predicted = torch.max(outputs.data, 1)\n",
    "    total = test_classes.size(0)\n",
    "    correct = (predicted == test_classes).sum()\n",
    "    test_accuracy.append((100 * correct / total))"
   ]
  },
  {
   "cell_type": "markdown",
   "metadata": {},
   "source": [
    "Plot loss vs iterations"
   ]
  },
  {
   "cell_type": "code",
   "execution_count": 9,
   "metadata": {},
   "outputs": [
    {
     "data": {
      "image/png": "[encoded data removed]",
      "text/plain": [
       "<Figure size 1200x800 with 1 Axes>"
      ]
     },
     "metadata": {},
     "output_type": "display_data"
    }
   ],
   "source": [
    "fig = plt.figure(figsize=(12, 8))\n",
    "plt.plot(train_loss, label='train loss')\n",
    "plt.plot(test_loss, label='test loss')\n",
    "plt.title(\"Train and Test Loss\")\n",
    "plt.legend()\n",
    "plt.show()"
   ]
  },
  {
   "cell_type": "markdown",
   "metadata": {},
   "source": [
    "We notice that the loss (error) for the unseen data (test set) is lower than the training set.  That's a good indication that the model is performing well."
   ]
  },
  {
   "cell_type": "markdown",
   "metadata": {},
   "source": [
    "Plot Accuracy vs iterations"
   ]
  },
  {
   "cell_type": "code",
   "execution_count": 12,
   "metadata": {},
   "outputs": [
    {
     "data": {
      "image/png": "[encoded data removed]",
      "text/plain": [
       "<Figure size 1200x800 with 1 Axes>"
      ]
     },
     "metadata": {},
     "output_type": "display_data"
    }
   ],
   "source": [
    "fig = plt.figure(figsize=(12, 8))\n",
    "plt.plot(train_accuracy, label='train accuracy')\n",
    "plt.plot(test_accuracy, label='test accuracy')\n",
    "plt.title(\"Train and Test Accuracy\")\n",
    "plt.legend()\n",
    "plt.show()"
   ]
  },
  {
   "cell_type": "markdown",
   "metadata": {},
   "source": [
    "Our model is reaching abover 90% accuracy.  That's very good"
   ]
  },
  {
   "cell_type": "markdown",
   "metadata": {},
   "source": [
    "### Saving the model to disk, and loading it back"
   ]
  },
  {
   "cell_type": "code",
   "execution_count": 13,
   "metadata": {},
   "outputs": [],
   "source": [
    "torch.save(net.state_dict(), \"./2.model.pth\")"
   ]
  },
  {
   "cell_type": "code",
   "execution_count": 14,
   "metadata": {},
   "outputs": [
    {
     "data": {
      "text/plain": [
       "<All keys matched successfully>"
      ]
     },
     "execution_count": 14,
     "metadata": {},
     "output_type": "execute_result"
    }
   ],
   "source": [
    "net2 = IrisNet(4, 100, 50, 3)\n",
    "net2.load_state_dict(torch.load(\"./2.model.pth\"))"
   ]
  },
  {
   "cell_type": "markdown",
   "metadata": {},
   "source": [
    "Choose which values of features you want the model to predict on.  Recall from our last tutorials that the most significant features of the iris flower are the petal length and width"
   ]
  },
  {
   "cell_type": "code",
   "execution_count": 15,
   "metadata": {},
   "outputs": [],
   "source": [
    "# output = net2(Variable(torch.FloatTensor([[5.1, 3.5, 1.4, 0.2]]))) # Iris-setosa\n",
    "# output = net2(Variable(torch.FloatTensor([[7.0, 3.2, 4.7, 1.4]]))) # Iris-versicolor\n",
    "#output = net2(Variable(torch.FloatTensor([[6.3, 3.3, 6.0, 2.5]])))  # Iris-virginica\n",
    "output = net2(Variable(torch.FloatTensor([[5.0, 2.2, 5.7, 4.4]]))) # Random feature sizes"
   ]
  },
  {
   "cell_type": "markdown",
   "metadata": {},
   "source": [
    "### Test"
   ]
  },
  {
   "cell_type": "code",
   "execution_count": 16,
   "metadata": {},
   "outputs": [
    {
     "name": "stdout",
     "output_type": "stream",
     "text": [
      "Predicted class:  2\n",
      "0: Iris-setosa \n",
      "1: Iris-versicolor \n",
      "2: Iris-virginica \n"
     ]
    }
   ],
   "source": [
    "_, predicted_class = torch.max(output.data, 1)\n",
    "\n",
    "print('Predicted class: ', predicted_class.numpy()[0])\n",
    "print('0: Iris-setosa ')\n",
    "print('1: Iris-versicolor ')\n",
    "print('2: Iris-virginica ')"
   ]
  },
  {
   "cell_type": "markdown",
   "metadata": {},
   "source": [
    "Check if your predictions are correct by looking in the dataset"
   ]
  },
  {
   "cell_type": "markdown",
   "metadata": {},
   "source": [
    "## Please proceed to Notebook 3 - CNN Concepts"
   ]
  },
  {
   "cell_type": "code",
   "execution_count": null,
   "metadata": {},
   "outputs": [],
   "source": []
  }
 ],
 "metadata": {
  "kernelspec": {
   "display_name": "Python 3 (ipykernel)",
   "language": "python",
   "name": "python3"
  },
  "language_info": {
   "codemirror_mode": {
    "name": "ipython",
    "version": 3
   },
   "file_extension": ".py",
   "mimetype": "text/x-python",
   "name": "python",
   "nbconvert_exporter": "python",
   "pygments_lexer": "ipython3",
   "version": "3.11.5"
  }
 },
 "nbformat": 4,
 "nbformat_minor": 4
}
