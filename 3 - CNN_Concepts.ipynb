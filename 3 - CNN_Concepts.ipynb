{
 "cells": [
  {
   "cell_type": "markdown",
   "id": "dd548b11-91e8-4188-b59a-92fd8e7de552",
   "metadata": {},
   "source": [
    "# Introduction to Convolutional Neural Networks (CNN)\n",
    "**Notebook 3 of 3**\n",
    "\n",
    "In our previous tutorials, we explored the fundamentals of deep neural networks (DNN).  We delved into the inner workings ofhow DNNs learn with the data.  This tutorial gives a cursory overview of how convolutional neural networks (CNN) work and why they are used in image and video inferencing. A more programmatic approach to CNNs is covered in the CNN for Image Inferencing tutorial [CNN in image Inferencing](https://github.com/uOttawa-IT-Research-teaching/CNN-ImageInferencing)"
   ]
  },
  {
   "cell_type": "markdown",
   "id": "e28319f2",
   "metadata": {},
   "source": [
    "## Learning Objectives\n",
    "\n",
    "Average time to complete: 20min\n",
    "\n",
    "By the end of this tutorial you should be able to:\n",
    "* Understand the underlying concept of CNN models using the notions that we explored in notebooks 1 & 2"
   ]
  },
  {
   "cell_type": "markdown",
   "id": "95666577",
   "metadata": {},
   "source": [
    "## What you will need for this tutorial\n",
    "\n",
    "* See the [introduction document](https://uottawa-it-research-teaching.github.io/machinelearning/) for general requirements and how Jupyter notebooks work.\n",
    "* We'll need Pandas for convenient data handling. It's a very powerful Python package that can read CSV and Excel files. It also has very good data manipulation capabilities which come in use for data cleaning.\n",
    "* Pytorch\n",
    "* We will use scikit learn as our machine learning package.\n",
    "* numpy \n",
    "* seaborn \n",
    "* matplotlib\n",
    "* requests\n",
    "* ipywidgets\n",
    "* The data files that should have come with this notebook."
   ]
  },
  {
   "cell_type": "markdown",
   "id": "d9c21938",
   "metadata": {},
   "source": [
    "## RDM best practices\n",
    "\n",
    "Good data handling for machine learning begins with good Research Data Managment (RDM). The quality of your source data will impact the outcome of your results, just like the reproducibility of your results will depend on the quality of your data sources, in addition to how you organize the data so that other people (and machines!) can understand and reuse it. \n",
    "\n",
    "We also need to respect a few research data management best practices along the way, these best practices are recommended by the [Digital Research Alliance of Canada](https://zenodo.org/records/4000989).\n",
    "\n",
    "SAVE YOUR RAW DATA IN ORIGINAL FORMAT\n",
    "* Don't overwrite your original data with a cleaned version.\n",
    "* Protect your original data by locking them or making them read-only.\n",
    "* Refer to this original data if things go wrong (as they often do).\n",
    "\n",
    "BACKUP YOUR DATA\n",
    "* Use the 3-2-1 rule: Save three copies of your data, on two different storage mediums, and one copy off site. The off site storage can be OneDrive or Google drive or whatever your institution provides.\n",
    "* We are using Open Data, so it does not contain any personally identifiable data or data that needs to be restricted or protected in any way. However, if your data contains confidential information, it is important to take steps to restrict access and encrypt your data.\n",
    "\n",
    "There are a few more RDM best practices that will help you in your project management, and we will highlight them at the beginning of each tutorial. "
   ]
  },
  {
   "cell_type": "markdown",
   "id": "9b6c4f65",
   "metadata": {},
   "source": [
    "There are just a few libraries to load"
   ]
  },
  {
   "cell_type": "code",
   "execution_count": 1,
   "id": "4d421852",
   "metadata": {},
   "outputs": [],
   "source": [
    "import matplotlib.pyplot as plt\n",
    "import numpy as np\n",
    "from ipywidgets import Video"
   ]
  },
  {
   "cell_type": "markdown",
   "id": "58097e34-8584-4683-9cbb-f1d5f3d165d8",
   "metadata": {},
   "source": [
    "### What if we want to train an image classifier i.e. use an image as an input ?\n",
    "Let's start with some image basics:\n",
    "\n",
    "- An image is a **collection of pixels**.  For example, a 32x32 image has 1024 pixels.\n",
    "- Each pixel is an **intensity represented by a number** in a range [0, 255]. 0 is black and 1 is white.​\n",
    "- Colour images have 3 dimensions: **[width, height, depth]** where depth is usually 3.  Depth encodes the intensity of RGB values [Red, Green, Blue].<br>\n",
    "![](pynb_pics/imageof8.jpg)\n",
    "<p style=\"text-align: center;\">An image is just a matrix of integers</p>"
   ]
  },
  {
   "cell_type": "markdown",
   "id": "fe8fcc37",
   "metadata": {},
   "source": [
    "There are 2 major limitations to feeding this matrix into a DNN as seen earlier\n",
    "- Does not scale well to bigger images:​\n",
    "\n",
    "  - Most real-life images as far bigger than 1024 pixels.  For example, a colour image of 320x320x3 has a dimension of 307200.​\n",
    "\n",
    "- Does not consider the property of an image:​\n",
    "\n",
    "  - Locality: Nearby pixels are usually strongly correlated (See outline of '8' picture). Scaling breaks the pattern.​\n",
    "\n",
    "  - Translation invariance: Meaningful features can occur anywhere in image.​\n",
    "![](pynb_pics/goose.jpg)"
   ]
  },
  {
   "cell_type": "markdown",
   "id": "557779f1",
   "metadata": {},
   "source": [
    "How **convolution** deals with these limitations:\n",
    "\n",
    " - **Weight Sharing**: All local parts of an image are processed with the same weights so that identical patterns can be detected at many location e.g. horizontal edges, curves, etc.\n",
    "\n",
    " - **Hierarchy of features**: Lower-level patterns learned at the start are composed to form higher-level ones across layers e.g. edges to contours to head outlines, etc.\n",
    "\n",
    "How does convolution work?\n",
    "\n",
    " - Define a filter: a 2D weight matrix of a certain size e.g. 3x3 filter\n",
    "\n",
    " - Convolve the whole image with the filter: multiply each pixel under the filter with the weight\n",
    "\n",
    " - Convolution output forms a new image: a feature map\n",
    "\n",
    " - Using multiple filters (each with a different weight matrix), different features can be captured."
   ]
  },
  {
   "cell_type": "markdown",
   "id": "b2a84cf9",
   "metadata": {},
   "source": [
    "### Convolution example: mean filter\n",
    "\n",
    "Take an image with pixel values as follows​"
   ]
  },
  {
   "cell_type": "code",
   "execution_count": 2,
   "id": "3ebc897f-f731-4e9b-bd94-e6863b0bc57b",
   "metadata": {},
   "outputs": [
    {
     "data": {
      "image/png": "[encoded data removed]",
      "text/plain": [
       "<Figure size 640x480 with 1 Axes>"
      ]
     },
     "metadata": {},
     "output_type": "display_data"
    }
   ],
   "source": [
    "\n",
    "fig,ax=plt.subplots(1,subplot_kw={'aspect':'equal'})\n",
    "\n",
    "# A small 3x3 sample array\n",
    "# Normalise the data to between 0 and 1\n",
    "\n",
    "imarray=np.array([[0., 0., 0., 0., 0., 0., 0.],\n",
    " [0., 0., 0., 0., 0., 0., 0.],\n",
    " [0., 0., 1., 1., 1., 0., 0.],\n",
    " [0., 0., 1., 1., 1., 0., 0.],\n",
    " [0., 0., 1., 1., 1., 0., 0.],\n",
    " [0., 0., 0., 0., 0., 0., 0.],\n",
    " [0., 0., 0., 0., 0., 0., 0.]])\n",
    "\n",
    "# plot the array\n",
    "ax.imshow(imarray,cmap='gray', interpolation='none')\n",
    "\n",
    "plt.show()"
   ]
  },
  {
   "cell_type": "markdown",
   "id": "6421f1d4",
   "metadata": {},
   "source": [
    "Recall that a mean filter is a 2D matrix – 1 iteration​"
   ]
  },
  {
   "cell_type": "code",
   "execution_count": 3,
   "id": "3dfd7cee",
   "metadata": {},
   "outputs": [
    {
     "data": {
      "text/plain": [
       "[[0.11, 0.11, 0.11], [0.11, 0.11, 0.11], [0.11, 0.11, 0.11]]"
      ]
     },
     "execution_count": 3,
     "metadata": {},
     "output_type": "execute_result"
    }
   ],
   "source": [
    "[[.11, .11, .11],\n",
    "[.11, .11, .11],\n",
    "[.11, .11, .11]]"
   ]
  },
  {
   "cell_type": "markdown",
   "id": "dee82899",
   "metadata": {},
   "source": [
    "In a convolution, this \"mean filter\" slides across the image, takes values of 9 connected pixels, multiplies with the weights and returns sum I.e. the result is a weighted average (mean) of the 9 values hence \"mean filter\""
   ]
  },
  {
   "cell_type": "markdown",
   "id": "a122e895",
   "metadata": {},
   "source": [
    "### Convolution layer in action"
   ]
  },
  {
   "cell_type": "code",
   "execution_count": 4,
   "id": "39ce463d",
   "metadata": {},
   "outputs": [
    {
     "data": {
      "application/vnd.jupyter.widget-view+json": {
       "model_id": "8afb17b265574831a89d0d70ec075717",
       "version_major": 2,
       "version_minor": 0
      },
      "text/plain": [
       "Video(value=b'\\x00\\x00\\x00\\x18ftypmp42\\x00\\x00\\x00\\x00mp41isom\\x00\\x00\\x00(uuid\\\\\\xa7\\x08\\xfb2\\x8eB\\x05...', h…"
      ]
     },
     "execution_count": 4,
     "metadata": {},
     "output_type": "execute_result"
    }
   ],
   "source": [
    "Video.from_file(\"pynb_pics/meanfilter.mp4\", width=320, height=320)"
   ]
  },
  {
   "cell_type": "markdown",
   "id": "0b4e8740",
   "metadata": {},
   "source": [
    "### Feature extraction\n",
    "Below is an example of the the averaging effect in an area of the image.  Notice how it blurs out any edges in the image.  This represents the initial stages of feature detections in the training image that the model will use to identify objects."
   ]
  },
  {
   "cell_type": "code",
   "execution_count": 5,
   "id": "f64f0107-6e72-45a1-b6d5-aaf1c64208e8",
   "metadata": {},
   "outputs": [
    {
     "data": {
      "image/png": "[encoded data removed]",
      "text/plain": [
       "<Figure size 640x480 with 1 Axes>"
      ]
     },
     "metadata": {},
     "output_type": "display_data"
    }
   ],
   "source": [
    "fig,ax=plt.subplots(1,subplot_kw={'aspect':'equal'})\n",
    "\n",
    "# After applying filter - one iteration\n",
    "imarray=np.array([[0.11, 0.22, 0.33, 0.22, 0.11],\n",
    " [0.22, 0.44, 0.67, 0.44, 0.22],\n",
    " [0.33, 0.67, 1.,   0.67, 0.33],\n",
    " [0.22, 0.44, 0.67, 0.44, 0.22],\n",
    " [0.11, 0.22, 0.33, 0.22, 0.11]])\n",
    "\n",
    "# plot the array\n",
    "ax.imshow(imarray,cmap='gray', interpolation='none')\n",
    "\n",
    "plt.show()\n"
   ]
  },
  {
   "cell_type": "markdown",
   "id": "a26c344c",
   "metadata": {},
   "source": [
    "### Learning features\n",
    "- Usually there are many filters for each layer\n",
    "- Each filter captures a different pattern of the same image\n",
    "- Multiple layers allow features at different scales to be captured.  This is the hierarchy of features referred to earlier.\n",
    "- Early filters capture edges and textures\n",
    "- Later filters form parts and objects\n",
    "![](pynb_pics/layers.jpg)"
   ]
  },
  {
   "cell_type": "markdown",
   "id": "506a375d",
   "metadata": {},
   "source": [
    "### Putting DNNs and CNNs together\n",
    "\n",
    "#### DNN uses many fully-connected layers\n",
    "#### CNN contains mostly convolutional layers\n",
    "\n",
    "- Convolutional layer: Image undergoes a convolution with filters\n",
    "- RELU layer: Activation function to introduce non-linearity in order to reduce error as much as possible (same function as with DNN)\n",
    "- Pooling layer: Image undergoes a convolution with a mean (or max) filter. Down-sampling and feature preservation.  Saves time and computations.\n",
    "- Fully-connected layer: Last layer to output a class probability prediction.  That's what you see."
   ]
  },
  {
   "cell_type": "code",
   "execution_count": null,
   "id": "9090e916",
   "metadata": {},
   "outputs": [],
   "source": []
  },
  {
   "cell_type": "code",
   "execution_count": null,
   "id": "64054433",
   "metadata": {},
   "outputs": [],
   "source": []
  }
 ],
 "metadata": {
  "kernelspec": {
   "display_name": "Python 3 (ipykernel)",
   "language": "python",
   "name": "python3"
  },
  "language_info": {
   "codemirror_mode": {
    "name": "ipython",
    "version": 3
   },
   "file_extension": ".py",
   "mimetype": "text/x-python",
   "name": "python",
   "nbconvert_exporter": "python",
   "pygments_lexer": "ipython3",
   "version": "3.11.5"
  }
 },
 "nbformat": 4,
 "nbformat_minor": 5
}
